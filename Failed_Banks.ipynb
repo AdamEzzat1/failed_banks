{
 "cells": [
  {
   "cell_type": "code",
   "execution_count": 1,
   "id": "041a8616",
   "metadata": {},
   "outputs": [],
   "source": [
    "import pandas as pd"
   ]
  },
  {
   "cell_type": "code",
   "execution_count": 3,
   "id": "af6ee237",
   "metadata": {},
   "outputs": [
    {
     "name": "stdout",
     "output_type": "stream",
     "text": [
      "                   Bank Name               City  State   Cert   \\\n",
      "0         First Republic Bank      San Francisco     CA  59017   \n",
      "1              Signature Bank           New York     NY  57053   \n",
      "2         Silicon Valley Bank        Santa Clara     CA  24735   \n",
      "3           Almena State Bank             Almena     KS  15426   \n",
      "4  First City Bank of Florida  Fort Walton Beach     FL  16748   \n",
      "\n",
      "                Acquiring Institution  Closing Date    Fund  \n",
      "0            JPMorgan Chase Bank, N.A.      1-May-23  10543  \n",
      "1                  Flagstar Bank, N.A.     12-Mar-23  10540  \n",
      "2  FirstCitizens Bank & Trust Company     10-Mar-23  10539  \n",
      "3                          Equity Bank     23-Oct-20  10538  \n",
      "4            United Fidelity Bank, fsb     16-Oct-20  10537  \n"
     ]
    }
   ],
   "source": [
    "import pandas as pd\n",
    "\n",
    "# Read the dataset from a CSV file with the appropriate encoding\n",
    "df = pd.read_csv('banklist.csv', encoding='latin-1')\n",
    "\n",
    "# Display the first few rows of the dataset\n",
    "print(df.head())\n"
   ]
  },
  {
   "cell_type": "code",
   "execution_count": null,
   "id": "7b6b44a2",
   "metadata": {},
   "outputs": [],
   "source": [
    "import pandas as pd\n",
    "\n",
    "df = pd.DataFrame(data)\n",
    "\n",
    "# Perform basic data analysis\n",
    "# Get the number of rows and columns in the dataset\n",
    "num_rows, num_cols = df.shape\n",
    "print(f\"Number of rows: {num_rows}\")\n",
    "print(f\"Number of columns: {num_cols}\")\n",
    "\n",
    "# Get descriptive statistics of numerical columns\n",
    "stats = df.describe()\n",
    "print(\"\\nDescriptive Statistics:\")\n",
    "print(stats)\n",
    "\n",
    "# Count the occurrences of each state\n",
    "state_counts = df['State'].value_counts()\n",
    "print(\"\\nState Counts:\")\n",
    "print(state_counts)\n",
    "\n",
    "# Calculate the average fund value\n",
    "avg_fund = df['Fund'].mean()\n",
    "print(f\"\\nAverage Fund Value: {avg_fund:.2f}\")\n"
   ]
  }
 ],
 "metadata": {
  "kernelspec": {
   "display_name": "Python 3 (ipykernel)",
   "language": "python",
   "name": "python3"
  },
  "language_info": {
   "codemirror_mode": {
    "name": "ipython",
    "version": 3
   },
   "file_extension": ".py",
   "mimetype": "text/x-python",
   "name": "python",
   "nbconvert_exporter": "python",
   "pygments_lexer": "ipython3",
   "version": "3.10.9"
  },
  "toc": {
   "base_numbering": 1,
   "nav_menu": {},
   "number_sections": true,
   "sideBar": true,
   "skip_h1_title": false,
   "title_cell": "Table of Contents",
   "title_sidebar": "Contents",
   "toc_cell": false,
   "toc_position": {},
   "toc_section_display": true,
   "toc_window_display": false
  }
 },
 "nbformat": 4,
 "nbformat_minor": 5
}
