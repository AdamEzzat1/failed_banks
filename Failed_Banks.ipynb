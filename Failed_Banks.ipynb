{
 "cells": [
  {
   "cell_type": "code",
   "execution_count": 1,
   "id": "f5cbca61",
   "metadata": {},
   "outputs": [],
   "source": [
    "import pandas as pd"
   ]
  },
  {
   "cell_type": "code",
   "execution_count": 9,
   "id": "6e27013c",
   "metadata": {},
   "outputs": [
    {
     "name": "stdout",
     "output_type": "stream",
     "text": [
      "                   Bank Name               City  State   Cert   \\\n",
      "0         First Republic Bank      San Francisco     CA  59017   \n",
      "1              Signature Bank           New York     NY  57053   \n",
      "2         Silicon Valley Bank        Santa Clara     CA  24735   \n",
      "3           Almena State Bank             Almena     KS  15426   \n",
      "4  First City Bank of Florida  Fort Walton Beach     FL  16748   \n",
      "\n",
      "                Acquiring Institution  Closing Date    Fund  \n",
      "0            JPMorgan Chase Bank, N.A.      1-May-23  10543  \n",
      "1                  Flagstar Bank, N.A.     12-Mar-23  10540  \n",
      "2  FirstCitizens Bank & Trust Company     10-Mar-23  10539  \n",
      "3                          Equity Bank     23-Oct-20  10538  \n",
      "4            United Fidelity Bank, fsb     16-Oct-20  10537  \n"
     ]
    }
   ],
   "source": [
    "import pandas as pd\n",
    "\n",
    "# Read the dataset from a CSV file with the appropriate encoding\n",
    "df = pd.read_csv('banklist.csv', encoding='latin-1')\n",
    "\n",
    "# Display the first few rows of the dataset\n",
    "print(df.head())\n"
   ]
  },
  {
   "cell_type": "code",
   "execution_count": 10,
   "id": "f737b196",
   "metadata": {},
   "outputs": [
    {
     "name": "stdout",
     "output_type": "stream",
     "text": [
      "<class 'pandas.core.frame.DataFrame'>\n",
      "RangeIndex: 566 entries, 0 to 565\n",
      "Data columns (total 7 columns):\n",
      " #   Column                  Non-Null Count  Dtype \n",
      "---  ------                  --------------  ----- \n",
      " 0   Bank Name               566 non-null    object\n",
      " 1   City                    566 non-null    object\n",
      " 2   State                   566 non-null    object\n",
      " 3   Cert                    566 non-null    int64 \n",
      " 4   Acquiring Institution   566 non-null    object\n",
      " 5   Closing Date            566 non-null    object\n",
      " 6   Fund                    566 non-null    int64 \n",
      "dtypes: int64(2), object(5)\n",
      "memory usage: 31.1+ KB\n"
     ]
    }
   ],
   "source": [
    "df.info()"
   ]
  },
  {
   "cell_type": "code",
   "execution_count": 13,
   "id": "61223551",
   "metadata": {},
   "outputs": [
    {
     "name": "stdout",
     "output_type": "stream",
     "text": [
      "Index(['Bank Name ', 'City ', 'State ', 'Cert ', 'Acquiring Institution ',\n",
      "       'Closing Date ', 'Fund'],\n",
      "      dtype='object')\n"
     ]
    }
   ],
   "source": [
    "print(df.columns)\n"
   ]
  },
  {
   "cell_type": "code",
   "execution_count": 14,
   "id": "6f2e8e4a",
   "metadata": {},
   "outputs": [],
   "source": [
    "df.columns = df.columns.str.strip()\n"
   ]
  },
  {
   "cell_type": "code",
   "execution_count": 15,
   "id": "93c65b3b",
   "metadata": {},
   "outputs": [
    {
     "name": "stdout",
     "output_type": "stream",
     "text": [
      "Number of unique states: 44\n"
     ]
    }
   ],
   "source": [
    "state_counts = df['State'].nunique()\n",
    "print(f\"Number of unique states: {state_counts}\")\n"
   ]
  },
  {
   "cell_type": "code",
   "execution_count": 16,
   "id": "1fec57a9",
   "metadata": {},
   "outputs": [
    {
     "name": "stdout",
     "output_type": "stream",
     "text": [
      "Top 5 cities:\n",
      "Chicago      20\n",
      "Atlanta      10\n",
      "Phoenix       6\n",
      "Naples        5\n",
      "Las Vegas     4\n",
      "Name: City, dtype: int64\n"
     ]
    }
   ],
   "source": [
    "top_cities = df['City'].value_counts().head(5)\n",
    "print(\"Top 5 cities:\")\n",
    "print(top_cities)\n"
   ]
  },
  {
   "cell_type": "code",
   "execution_count": 17,
   "id": "1ce6ae2b",
   "metadata": {},
   "outputs": [
    {
     "name": "stdout",
     "output_type": "stream",
     "text": [
      "Earliest closing date: 1-Aug-08\n",
      "Latest closing date: 9-Sep-11\n"
     ]
    }
   ],
   "source": [
    "earliest_date = df['Closing Date'].min()\n",
    "latest_date = df['Closing Date'].max()\n",
    "print(f\"Earliest closing date: {earliest_date}\")\n",
    "print(f\"Latest closing date: {latest_date}\")\n"
   ]
  },
  {
   "cell_type": "code",
   "execution_count": 18,
   "id": "a9a683e7",
   "metadata": {},
   "outputs": [
    {
     "name": "stdout",
     "output_type": "stream",
     "text": [
      "Average fund value: 10039.55\n"
     ]
    }
   ],
   "source": [
    "average_fund = df['Fund'].mean()\n",
    "print(f\"Average fund value: {average_fund:.2f}\")\n"
   ]
  },
  {
   "cell_type": "code",
   "execution_count": 19,
   "id": "c4f5caaa",
   "metadata": {},
   "outputs": [
    {
     "name": "stdout",
     "output_type": "stream",
     "text": [
      "Average fund value by acquiring institution:\n",
      "Acquiring Institution\n",
      "1st United Bank                        10296.666667\n",
      "Advantage National Bank Group          10350.000000\n",
      "Alerus Financial, N.A.                 10112.000000\n",
      "Allegheny Valley Bank of Pittsburgh    10000.000000\n",
      "Alma Bank                              10433.000000\n",
      "                                           ...     \n",
      "Whidbey Island Bank                    10253.000000\n",
      "Whitney Bank                           10526.000000\n",
      "Wilshire State Bank                    10072.000000\n",
      "Xenith Bank                            10385.000000\n",
      "Your Community Bank                    10474.000000\n",
      "Name: Fund, Length: 300, dtype: float64\n"
     ]
    }
   ],
   "source": [
    "institution_avg_fund = df.groupby('Acquiring Institution')['Fund'].mean()\n",
    "print(\"Average fund value by acquiring institution:\")\n",
    "print(institution_avg_fund)\n"
   ]
  }
 ],
 "metadata": {
  "kernelspec": {
   "display_name": "Python 3 (ipykernel)",
   "language": "python",
   "name": "python3"
  },
  "language_info": {
   "codemirror_mode": {
    "name": "ipython",
    "version": 3
   },
   "file_extension": ".py",
   "mimetype": "text/x-python",
   "name": "python",
   "nbconvert_exporter": "python",
   "pygments_lexer": "ipython3",
   "version": "3.10.9"
  },
  "toc": {
   "base_numbering": 1,
   "nav_menu": {},
   "number_sections": true,
   "sideBar": true,
   "skip_h1_title": false,
   "title_cell": "Table of Contents",
   "title_sidebar": "Contents",
   "toc_cell": false,
   "toc_position": {},
   "toc_section_display": true,
   "toc_window_display": false
  }
 },
 "nbformat": 4,
 "nbformat_minor": 5
}
